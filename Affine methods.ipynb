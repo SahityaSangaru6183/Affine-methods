{
 "cells": [
  {
   "cell_type": "code",
   "execution_count": 5,
   "id": "f5e39b35-c07f-4a3f-95d3-c9c90a393829",
   "metadata": {},
   "outputs": [],
   "source": [
    "import numpy as np\n",
    "import cv2"
   ]
  },
  {
   "cell_type": "code",
   "execution_count": 7,
   "id": "c2c1e149-2ca7-4f60-ac68-c888c8b56f22",
   "metadata": {},
   "outputs": [],
   "source": [
    "img=cv2.imread(r\"C:\\Users\\ADMIN\\Downloads\\parrot 1.jpg\")"
   ]
  },
  {
   "cell_type": "code",
   "execution_count": 9,
   "id": "fba530a5-6469-4783-a10a-f705ba107498",
   "metadata": {},
   "outputs": [
    {
     "data": {
      "text/plain": [
       "(275, 183, 3)"
      ]
     },
     "execution_count": 9,
     "metadata": {},
     "output_type": "execute_result"
    }
   ],
   "source": [
    "img.shape           # actualyy image has (w,h) but when you convert into array it will change (h,w means rows=height and columns= width"
   ]
  },
  {
   "cell_type": "markdown",
   "id": "930e7d66-7482-42ff-9de7-27930128abbe",
   "metadata": {},
   "source": [
    "# **1. Transilation**"
   ]
  },
  {
   "cell_type": "code",
   "execution_count": 15,
   "id": "7c59a735-2dae-43e6-a441-1947265137dc",
   "metadata": {},
   "outputs": [],
   "source": [
    "tx=0\n",
    "ty=0\n",
    "t_m=np.array([[1,0,tx],[0,1,ty]],dtype=np.float32)\n",
    "\n",
    "t_img=cv2.warpAffine(img,t_m,(183,275))"
   ]
  },
  {
   "cell_type": "code",
   "execution_count": 17,
   "id": "f6aa7caf-5dbd-455e-a4a4-b6021c67aa08",
   "metadata": {},
   "outputs": [
    {
     "data": {
      "text/plain": [
       "array([[1., 0., 0.],\n",
       "       [0., 1., 0.]], dtype=float32)"
      ]
     },
     "execution_count": 17,
     "metadata": {},
     "output_type": "execute_result"
    }
   ],
   "source": [
    "t_m"
   ]
  },
  {
   "cell_type": "code",
   "execution_count": 19,
   "id": "770706c8-f20a-48dd-9821-6fbf0b351342",
   "metadata": {},
   "outputs": [
    {
     "data": {
      "text/plain": [
       "(275, 183, 3)"
      ]
     },
     "execution_count": 19,
     "metadata": {},
     "output_type": "execute_result"
    }
   ],
   "source": [
    "t_img.shape"
   ]
  },
  {
   "cell_type": "code",
   "execution_count": 21,
   "id": "45402e07-fadc-4ee8-8d5c-370a1ad0fa47",
   "metadata": {},
   "outputs": [],
   "source": [
    "cv2.imshow(\"o_i\",img)\n",
    "cv2.imshow(\"t_i\",t_img)\n",
    "cv2.waitKey()\n",
    "cv2.destroyAllWindows()"
   ]
  },
  {
   "cell_type": "code",
   "execution_count": 22,
   "id": "91e185d7-860c-44fb-92e6-37b49a4520b2",
   "metadata": {},
   "outputs": [],
   "source": [
    "tx=50\n",
    "ty=50\n",
    "t_m=np.array([[1,0,tx],[0,1,ty]],dtype=np.float32)\n",
    "\n",
    "t_img=cv2.warpAffine(img,t_m,(183,275),borderMode=cv2.BORDER_REFLECT)\n",
    "t_img1=cv2.warpAffine(img,t_m,(183,275),borderMode=cv2.BORDER_CONSTANT,borderValue=(0,0,255))"
   ]
  },
  {
   "cell_type": "code",
   "execution_count": 25,
   "id": "84c2764a-732c-4cd6-b246-c1a3a93d6191",
   "metadata": {},
   "outputs": [],
   "source": [
    "cv2.imshow(\"o_i\",img)\n",
    "cv2.imshow(\"t_i\",t_img)\n",
    "cv2.imshow(\"t_i1\",t_img1)\n",
    "cv2.waitKey()\n",
    "cv2.destroyAllWindows()"
   ]
  },
  {
   "cell_type": "markdown",
   "id": "d8c82590-cba1-45ab-b147-9e3a314cf3c3",
   "metadata": {},
   "source": [
    "# **2. Rotation**"
   ]
  },
  {
   "cell_type": "code",
   "execution_count": 28,
   "id": "f8022c10-f854-4d07-80e2-a9aaf034aa22",
   "metadata": {},
   "outputs": [],
   "source": [
    "r_m=cv2.getRotationMatrix2D((137,91),-90,1)"
   ]
  },
  {
   "cell_type": "code",
   "execution_count": 30,
   "id": "4e7f6ba4-91a4-487e-8c3c-59448db947c2",
   "metadata": {},
   "outputs": [
    {
     "data": {
      "text/plain": [
       "array([[ 6.123234e-17, -1.000000e+00,  2.280000e+02],\n",
       "       [ 1.000000e+00,  6.123234e-17, -4.600000e+01]])"
      ]
     },
     "execution_count": 30,
     "metadata": {},
     "output_type": "execute_result"
    }
   ],
   "source": [
    "r_m"
   ]
  },
  {
   "cell_type": "code",
   "execution_count": 32,
   "id": "5c4f248e-3f8f-4b83-983f-d724f99a1424",
   "metadata": {},
   "outputs": [],
   "source": [
    "r_img=cv2.warpAffine(img,r_m,(183,275))"
   ]
  },
  {
   "cell_type": "code",
   "execution_count": 34,
   "id": "9677221d-7749-4a81-a283-db4cd8204296",
   "metadata": {},
   "outputs": [],
   "source": [
    "cv2.imshow(\"o_i\",img)\n",
    "cv2.imshow(\"r_img\",r_img)\n",
    "\n",
    "cv2.waitKey()\n",
    "cv2.destroyAllWindows()"
   ]
  },
  {
   "cell_type": "code",
   "execution_count": 36,
   "id": "cfd96ad4-0678-47be-9c4e-70e573d14496",
   "metadata": {},
   "outputs": [],
   "source": [
    "r_img1=cv2.warpAffine(img,r_m,(183,275),borderMode=cv2.BORDER_REFLECT)"
   ]
  },
  {
   "cell_type": "code",
   "execution_count": 38,
   "id": "9de01d55-b62b-48e1-a8bf-5d699f29075f",
   "metadata": {},
   "outputs": [],
   "source": [
    "cv2.imshow(\"o_i\",img)\n",
    "cv2.imshow(\"r_img\",r_img)\n",
    "cv2.imshow(\"re_img\",r_img1)\n",
    "cv2.waitKey()\n",
    "cv2.destroyAllWindows()"
   ]
  },
  {
   "cell_type": "code",
   "execution_count": 40,
   "id": "42bbf3b1-b62b-41ff-9897-cf520b8f0efa",
   "metadata": {},
   "outputs": [],
   "source": [
    "r_m=cv2.getRotationMatrix2D((0,0),10,1)\n",
    "r_img1=cv2.warpAffine(img,r_m,(183,275))\n",
    "cv2.imshow(\"o_i\",img)\n",
    "cv2.imshow(\"r_img\",r_img)\n",
    "cv2.imshow(\"re_img\",r_img1)\n",
    "cv2.waitKey()\n",
    "cv2.destroyAllWindows()"
   ]
  },
  {
   "cell_type": "code",
   "execution_count": 42,
   "id": "dbdb7669-4e6a-4faf-a28f-9f071c9fd302",
   "metadata": {},
   "outputs": [],
   "source": [
    "img1=cv2.rotate(img,cv2.ROTATE_180)\n",
    "img2=cv2.rotate(img,cv2.ROTATE_90_CLOCKWISE)\n",
    "img3=cv2.rotate(img,cv2.ROTATE_90_COUNTERCLOCKWISE)\n",
    "\n",
    "cv2.imshow(\"o_i\",img)\n",
    "cv2.imshow(\"r_img1\",img1)\n",
    "cv2.imshow(\"r_img2\",img2)\n",
    "cv2.imshow(\"r_img3\",img3)\n",
    "cv2.waitKey()\n",
    "cv2.destroyAllWindows()"
   ]
  },
  {
   "cell_type": "markdown",
   "id": "b88d2a60-3a3f-48a2-8cde-c6b02f41165b",
   "metadata": {},
   "source": [
    "# **3. Scaling**"
   ]
  },
  {
   "cell_type": "code",
   "execution_count": 45,
   "id": "223dfa3c-c337-4484-b6a4-46edf8f9eaad",
   "metadata": {},
   "outputs": [],
   "source": [
    "sx=1\n",
    "sy=1\n",
    "tx=0\n",
    "ty=0\n",
    "sc_m=np.array([[sx,0,tx],[0,sy,ty]],dtype=np.float32)"
   ]
  },
  {
   "cell_type": "code",
   "execution_count": 47,
   "id": "edf0c3bf-2a38-4ef2-babd-b80d2bf967e4",
   "metadata": {},
   "outputs": [
    {
     "data": {
      "text/plain": [
       "array([[1., 0., 0.],\n",
       "       [0., 1., 0.]], dtype=float32)"
      ]
     },
     "execution_count": 47,
     "metadata": {},
     "output_type": "execute_result"
    }
   ],
   "source": [
    "sc_m"
   ]
  },
  {
   "cell_type": "code",
   "execution_count": 49,
   "id": "9e52aaaa-59ab-43f5-919b-78e2748947f6",
   "metadata": {},
   "outputs": [],
   "source": [
    "scal_img=cv2.warpAffine(img,sc_m,(183,275))"
   ]
  },
  {
   "cell_type": "code",
   "execution_count": 51,
   "id": "02b50a26-e35a-489c-9936-9d401c4a24fd",
   "metadata": {},
   "outputs": [],
   "source": [
    "cv2.imshow(\"o_i\",img)\n",
    "cv2.imshow(\"s_im\",scal_img)\n",
    "cv2.waitKey()\n",
    "cv2.destroyAllWindows()"
   ]
  },
  {
   "cell_type": "code",
   "execution_count": 53,
   "id": "7a7821f7-991d-4bb2-abb8-9bb96cf9251d",
   "metadata": {},
   "outputs": [],
   "source": [
    "sx=0.3\n",
    "sy=0.3\n",
    "tx=1\n",
    "ty=1\n",
    "sc_m=np.array([[sx,0,tx],[0,sy,ty]],dtype=np.float32)"
   ]
  },
  {
   "cell_type": "code",
   "execution_count": 55,
   "id": "5148b215-a503-4ea0-88d8-630d1e8a2c4c",
   "metadata": {},
   "outputs": [],
   "source": [
    "scal_img=cv2.warpAffine(img,sc_m,(183,275))\n",
    "cv2.imshow(\"o_i\",img)\n",
    "cv2.imshow(\"s_im\",scal_img)\n",
    "cv2.waitKey()\n",
    "cv2.destroyAllWindows()"
   ]
  },
  {
   "cell_type": "code",
   "execution_count": 57,
   "id": "036fc97b-060a-4e85-a03c-127eb61695ec",
   "metadata": {},
   "outputs": [],
   "source": [
    "cv2.imshow(\"o_i\",cv2.resize(img,(500,500)))\n",
    "cv2.imshow(\"s_im\",cv2.resize(img,(50,50)))\n",
    "cv2.waitKey()\n",
    "cv2.destroyAllWindows()                  # resize only do resize but wrapaffin do resize and translation"
   ]
  },
  {
   "cell_type": "code",
   "execution_count": 59,
   "id": "40c2517c-9d31-4d19-b77f-c3000e80064b",
   "metadata": {},
   "outputs": [],
   "source": [
    "zo_o=cv2.pyrDown(img)\n",
    "zo_i=cv2.pyrUp(img)"
   ]
  },
  {
   "cell_type": "code",
   "execution_count": 61,
   "id": "9fc02c6b-ba0c-4f96-b8c0-95cef3fd8c0a",
   "metadata": {},
   "outputs": [],
   "source": [
    "cv2.imshow(\"o_i\",zo_o)\n",
    "cv2.imshow(\"s_im\",zo_i)\n",
    "cv2.waitKey()\n",
    "cv2.destroyAllWindows()"
   ]
  },
  {
   "cell_type": "markdown",
   "id": "a646d896-995c-4141-9fd7-f5103c1ea4d4",
   "metadata": {},
   "source": [
    "# **4. Sheering**"
   ]
  },
  {
   "cell_type": "code",
   "execution_count": 64,
   "id": "7c742af5-6d53-4270-9c27-da55c76ac17c",
   "metadata": {},
   "outputs": [],
   "source": [
    "shx=1\n",
    "shy=3\n",
    "tx=0\n",
    "ty=0\n",
    "sh_m=np.array([[1,shx,tx],[shy,1,ty]],dtype=np.float32)"
   ]
  },
  {
   "cell_type": "code",
   "execution_count": 66,
   "id": "9e35886e-1967-4afa-a62b-ca3edeada6d5",
   "metadata": {},
   "outputs": [],
   "source": [
    "scal_img=cv2.warpAffine(img,sh_m,(183,275))\n",
    "cv2.imshow(\"o_i\",img)\n",
    "cv2.imshow(\"s_im\",scal_img)\n",
    "cv2.waitKey()\n",
    "cv2.destroyAllWindows()"
   ]
  },
  {
   "cell_type": "code",
   "execution_count": null,
   "id": "09f4fd2b-b71b-4d64-9a8a-c832a11aa973",
   "metadata": {},
   "outputs": [],
   "source": []
  },
  {
   "cell_type": "code",
   "execution_count": 68,
   "id": "3f5de705-f0e9-406e-b26b-2bada13c19d3",
   "metadata": {},
   "outputs": [],
   "source": [
    "cr_img=img[10:90,15:100]"
   ]
  },
  {
   "cell_type": "code",
   "execution_count": 70,
   "id": "c4be7e92-e00c-449d-b888-3cc9e4d3fd8c",
   "metadata": {},
   "outputs": [],
   "source": [
    "cv2.imshow(\"orginal_image\",img)\n",
    "cv2.imshow(\"cropping_img\",cr_img)\n",
    "cv2.waitKey()\n",
    "cv2.destroyAllWindows()"
   ]
  },
  {
   "cell_type": "code",
   "execution_count": null,
   "id": "5e1348af-4a65-4a41-b768-6b9a14c5fe42",
   "metadata": {},
   "outputs": [],
   "source": []
  }
 ],
 "metadata": {
  "kernelspec": {
   "display_name": "Python 3 (ipykernel)",
   "language": "python",
   "name": "python3"
  },
  "language_info": {
   "codemirror_mode": {
    "name": "ipython",
    "version": 3
   },
   "file_extension": ".py",
   "mimetype": "text/x-python",
   "name": "python",
   "nbconvert_exporter": "python",
   "pygments_lexer": "ipython3",
   "version": "3.11.7"
  }
 },
 "nbformat": 4,
 "nbformat_minor": 5
}
